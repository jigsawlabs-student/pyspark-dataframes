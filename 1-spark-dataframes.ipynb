{
 "cells": [
  {
   "cell_type": "markdown",
   "id": "pending-harbor",
   "metadata": {},
   "source": [
    "# Spark DataFrames"
   ]
  },
  {
   "cell_type": "markdown",
   "id": "alert-gambling",
   "metadata": {},
   "source": [
    "### Introduction"
   ]
  },
  {
   "cell_type": "markdown",
   "id": "incident-producer",
   "metadata": {},
   "source": [
    "Now normally, when working with Pyspark, we work on a higher level of abstraction, which is to work with a dataframe.  In this lesson, we'll get started working with a dataframe."
   ]
  },
  {
   "cell_type": "markdown",
   "id": "biological-migration",
   "metadata": {},
   "source": [
    "### Introducing a Dataframe"
   ]
  },
  {
   "cell_type": "markdown",
   "id": "right-journalist",
   "metadata": {},
   "source": [
    "The first step to creating a dataframe, is to initialize a spark session."
   ]
  },
  {
   "cell_type": "code",
   "execution_count": 1,
   "id": "defined-cycling",
   "metadata": {},
   "outputs": [],
   "source": [
    "from pyspark.sql import SparkSession\n",
    "\n",
    "spark = SparkSession \\\n",
    "    .builder \\\n",
    "    .appName(\"films\") \\\n",
    "    .getOrCreate()"
   ]
  },
  {
   "cell_type": "markdown",
   "id": "conventional-communications",
   "metadata": {},
   "source": [
    "Now, a spark session is very similar to a spark context, which we worked with in previous lessons.  A spark session, wraps around a spark context -- creating a new spark context if one doesn't currently exist. "
   ]
  },
  {
   "cell_type": "markdown",
   "id": "third-wallace",
   "metadata": {},
   "source": [
    "> So if we want to get the spark context from our session we can do so with the following."
   ]
  },
  {
   "cell_type": "code",
   "execution_count": 37,
   "id": "decimal-update",
   "metadata": {},
   "outputs": [
    {
     "data": {
      "text/html": [
       "\n",
       "        <div>\n",
       "            <p><b>SparkContext</b></p>\n",
       "\n",
       "            <p><a href=\"http://jeffreys-air.home:4040\">Spark UI</a></p>\n",
       "\n",
       "            <dl>\n",
       "              <dt>Version</dt>\n",
       "                <dd><code>v3.1.1</code></dd>\n",
       "              <dt>Master</dt>\n",
       "                <dd><code>local[2]</code></dd>\n",
       "              <dt>AppName</dt>\n",
       "                <dd><code>films</code></dd>\n",
       "            </dl>\n",
       "        </div>\n",
       "        "
      ],
      "text/plain": [
       "<SparkContext master=local[2] appName=films>"
      ]
     },
     "execution_count": 37,
     "metadata": {},
     "output_type": "execute_result"
    }
   ],
   "source": [
    "spark.sparkContext"
   ]
  },
  {
   "cell_type": "markdown",
   "id": "facial-antarctica",
   "metadata": {},
   "source": [
    "So this spark session is really just a thin wrapper around our spark context, which is one way for us to connect to our spark cluster.  The spark session is the other way.\n",
    "\n",
    "Now let's use the spark session to create a dataframe."
   ]
  },
  {
   "cell_type": "markdown",
   "id": "nuclear-christianity",
   "metadata": {},
   "source": [
    "### Creating a DataFrame"
   ]
  },
  {
   "cell_type": "markdown",
   "id": "numerical-liberty",
   "metadata": {},
   "source": [
    "To create our dataframe, we can start with a list of dictionaries in Python."
   ]
  },
  {
   "cell_type": "code",
   "execution_count": 93,
   "id": "fallen-brief",
   "metadata": {},
   "outputs": [],
   "source": [
    "movies = [{'index': 1,\n",
    "  'title': 'Shazam!',\n",
    "  'release_date': 1553299200,\n",
    "  'genre': 'Comedy'}, {'index': 2,\n",
    "  'title': 'Captain Marvel',\n",
    "  'release_date': 1551830400,\n",
    "  'genre': 'Action'},  {'index': 3,\n",
    "  'title': 'Escape Room',\n",
    "  'release_date': 1546473600,\n",
    "  'genre': 'Horror'}, {'index': 4,\n",
    "  'title': 'How to Train A Dragon',\n",
    "  'release_date': 1546473600,\n",
    "  'genre': 'Animation'}]"
   ]
  },
  {
   "cell_type": "markdown",
   "id": "historic-controversy",
   "metadata": {},
   "source": [
    "> So here we have a list of movies displaying the `title`, `release_date` and `genre` of each movie."
   ]
  },
  {
   "cell_type": "markdown",
   "id": "swiss-register",
   "metadata": {},
   "source": [
    "And then we can use the `createDataFrame` method on the spark session to create our dataframe."
   ]
  },
  {
   "cell_type": "code",
   "execution_count": 94,
   "id": "competitive-large",
   "metadata": {},
   "outputs": [],
   "source": [
    "movies_df = spark.createDataFrame(movies)"
   ]
  },
  {
   "cell_type": "markdown",
   "id": "mounted-robertson",
   "metadata": {},
   "source": [
    "And we can view that dataframe by running the `show` method."
   ]
  },
  {
   "cell_type": "code",
   "execution_count": 95,
   "id": "injured-insured",
   "metadata": {},
   "outputs": [
    {
     "name": "stdout",
     "output_type": "stream",
     "text": [
      "+---------+-----+------------+--------------------+\n",
      "|    genre|index|release_date|               title|\n",
      "+---------+-----+------------+--------------------+\n",
      "|   Comedy|    1|  1553299200|             Shazam!|\n",
      "|   Action|    2|  1551830400|      Captain Marvel|\n",
      "|   Horror|    3|  1546473600|         Escape Room|\n",
      "|Animation|    4|  1546473600|How to Train A Dr...|\n",
      "+---------+-----+------------+--------------------+\n",
      "\n"
     ]
    }
   ],
   "source": [
    "movies_df.show()"
   ]
  },
  {
   "cell_type": "markdown",
   "id": "incident-lightweight",
   "metadata": {},
   "source": [
    "So we can see from the above, that our dataframe organizes our data in a table.  It has associated our records with various columns."
   ]
  },
  {
   "cell_type": "markdown",
   "id": "fitting-crowd",
   "metadata": {},
   "source": [
    "We can also see the *schema on read* characteristic from spark.  That even without specifying a datatype, Spark was able to determine the datatype for each column."
   ]
  },
  {
   "cell_type": "code",
   "execution_count": 105,
   "id": "experimental-annotation",
   "metadata": {},
   "outputs": [
    {
     "name": "stdout",
     "output_type": "stream",
     "text": [
      "root\n",
      " |-- genre: string (nullable = true)\n",
      " |-- index: long (nullable = true)\n",
      " |-- release_date: long (nullable = true)\n",
      " |-- title: string (nullable = true)\n",
      "\n"
     ]
    }
   ],
   "source": [
    "movies_df.printSchema()"
   ]
  },
  {
   "cell_type": "markdown",
   "id": "intimate-rally",
   "metadata": {},
   "source": [
    "### From DataFrame to RDD"
   ]
  },
  {
   "cell_type": "markdown",
   "id": "mineral-breathing",
   "metadata": {},
   "source": [
    "Now a dataframe in Pyspark creates an RDD under the hood."
   ]
  },
  {
   "cell_type": "code",
   "execution_count": 43,
   "id": "engaged-coalition",
   "metadata": {},
   "outputs": [
    {
     "data": {
      "text/plain": [
       "MapPartitionsRDD[55] at javaToPython at NativeMethodAccessorImpl.java:0"
      ]
     },
     "execution_count": 43,
     "metadata": {},
     "output_type": "execute_result"
    }
   ],
   "source": [
    "movies_df.rdd"
   ]
  },
  {
   "cell_type": "code",
   "execution_count": 46,
   "id": "interim-muscle",
   "metadata": {},
   "outputs": [
    {
     "data": {
      "text/plain": [
       "[Row(genre='Comedy', release_date=1553299200, title='Shazam!'),\n",
       " Row(genre='Action', release_date=1551830400, title='Captain Marvel'),\n",
       " Row(genre='Horror', release_date=1546473600, title='Escape Room'),\n",
       " Row(genre='Animation', release_date=1546473600, title='How to Train A Dragon')]"
      ]
     },
     "execution_count": 46,
     "metadata": {},
     "output_type": "execute_result"
    }
   ],
   "source": [
    "movies_df.rdd.collect()"
   ]
  },
  {
   "cell_type": "markdown",
   "id": "extensive-watson",
   "metadata": {},
   "source": [
    "1. It's distributed"
   ]
  },
  {
   "cell_type": "markdown",
   "id": "compact-hunger",
   "metadata": {},
   "source": [
    "And that even though this looks like a unified dataset, it's really distributed across different nodes."
   ]
  },
  {
   "cell_type": "code",
   "execution_count": 44,
   "id": "legislative-organizer",
   "metadata": {},
   "outputs": [
    {
     "data": {
      "text/plain": [
       "2"
      ]
     },
     "execution_count": 44,
     "metadata": {},
     "output_type": "execute_result"
    }
   ],
   "source": [
    "movies_df.rdd.getNumPartitions()"
   ]
  },
  {
   "cell_type": "markdown",
   "id": "spatial-humanitarian",
   "metadata": {},
   "source": [
    "2. It's lazy"
   ]
  },
  {
   "cell_type": "markdown",
   "id": "complex-nylon",
   "metadata": {},
   "source": [
    "Because our dataset is built on RDDs, is also operates in lazy manner.  So for example, if we want to select all of the titles of an RDD, we'll use a `map` function to select the title from each row.  But because `map` is a transformation, it will not operate on our data, until we follow up with an action."
   ]
  },
  {
   "cell_type": "code",
   "execution_count": 57,
   "id": "weird-inside",
   "metadata": {},
   "outputs": [
    {
     "data": {
      "text/plain": [
       "PythonRDD[60] at RDD at PythonRDD.scala:53"
      ]
     },
     "execution_count": 57,
     "metadata": {},
     "output_type": "execute_result"
    }
   ],
   "source": [
    "movies_df.rdd.map(lambda movie: movie['title'])"
   ]
  },
  {
   "cell_type": "code",
   "execution_count": 58,
   "id": "featured-surrey",
   "metadata": {},
   "outputs": [
    {
     "data": {
      "text/plain": [
       "['Shazam!', 'Captain Marvel', 'Escape Room', 'How to Train A Dragon']"
      ]
     },
     "execution_count": 58,
     "metadata": {},
     "output_type": "execute_result"
    }
   ],
   "source": [
    "movies_df.rdd.map(lambda movie: movie['title']).collect()"
   ]
  },
  {
   "cell_type": "markdown",
   "id": "cultural-weather",
   "metadata": {},
   "source": [
    "If we perform the equivalent operation with a dataframe, the operation is also treated as a transformation.  Let's see this.  Below, we'll select the `title` of each record."
   ]
  },
  {
   "cell_type": "code",
   "execution_count": 59,
   "id": "every-bones",
   "metadata": {},
   "outputs": [
    {
     "data": {
      "text/plain": [
       "DataFrame[title: string]"
      ]
     },
     "execution_count": 59,
     "metadata": {},
     "output_type": "execute_result"
    }
   ],
   "source": [
    "movies_df.select('title')"
   ]
  },
  {
   "cell_type": "markdown",
   "id": "substantial-glucose",
   "metadata": {},
   "source": [
    "So again, spark will not search through each of the records until an action is called."
   ]
  },
  {
   "cell_type": "code",
   "execution_count": 60,
   "id": "contemporary-enclosure",
   "metadata": {},
   "outputs": [
    {
     "name": "stdout",
     "output_type": "stream",
     "text": [
      "+--------------------+\n",
      "|               title|\n",
      "+--------------------+\n",
      "|             Shazam!|\n",
      "|      Captain Marvel|\n",
      "|         Escape Room|\n",
      "|How to Train A Dr...|\n",
      "+--------------------+\n",
      "\n"
     ]
    }
   ],
   "source": [
    "movies_df.select('title').show()"
   ]
  },
  {
   "cell_type": "markdown",
   "id": "professional-relevance",
   "metadata": {},
   "source": [
    "> So we can see that `show` is similar to `collect`. "
   ]
  },
  {
   "cell_type": "markdown",
   "id": "fallen-offense",
   "metadata": {},
   "source": [
    "Let's do this one more time, this time with two columns."
   ]
  },
  {
   "cell_type": "code",
   "execution_count": 61,
   "id": "anonymous-female",
   "metadata": {},
   "outputs": [
    {
     "name": "stdout",
     "output_type": "stream",
     "text": [
      "+--------------------+---------+\n",
      "|               title|    genre|\n",
      "+--------------------+---------+\n",
      "|             Shazam!|   Comedy|\n",
      "|      Captain Marvel|   Action|\n",
      "|         Escape Room|   Horror|\n",
      "|How to Train A Dr...|Animation|\n",
      "+--------------------+---------+\n",
      "\n"
     ]
    }
   ],
   "source": [
    "movies_df.select(['title', 'genre']).show()"
   ]
  },
  {
   "cell_type": "markdown",
   "id": "gothic-floor",
   "metadata": {},
   "source": [
    "> So to select multiple columns, we pass through a list of columns."
   ]
  },
  {
   "cell_type": "markdown",
   "id": "clean-cooper",
   "metadata": {},
   "source": [
    "4. Only Coarse Grained Operations"
   ]
  },
  {
   "cell_type": "markdown",
   "id": "equivalent-spending",
   "metadata": {},
   "source": [
    "Remember that with our RDDs, we only have coarse grained methods available to us -- those methods like `map` or `filter` that operate across a dataset.  This makes things a little tricky if we want to just select a single row.  For example, we may think that with our dataframe above, we want to select the entry at a specific index.  With our dataframe, the only way to do this is to use something akin to the filter method -- where we ask to *select* the rows that have an id of 1.  But we'll learn how to do that with our dataframe in a future lesson."
   ]
  },
  {
   "cell_type": "markdown",
   "id": "incomplete-teacher",
   "metadata": {},
   "source": [
    "### Summary"
   ]
  },
  {
   "cell_type": "markdown",
   "id": "developmental-tower",
   "metadata": {},
   "source": [
    "In this lesson we learned how to create a DataFrame in Spark.  We do so, not through our Spark context but by creating a Spark session.  "
   ]
  },
  {
   "cell_type": "code",
   "execution_count": 102,
   "id": "scenic-asbestos",
   "metadata": {},
   "outputs": [],
   "source": [
    "from pyspark.sql import SparkSession\n",
    "\n",
    "spark = SparkSession \\\n",
    "    .builder \\\n",
    "    .appName(\"Python Spark SQL basic example\") \\\n",
    "    .config(\"spark.some.config.option\", \"some-value\") \\\n",
    "    .getOrCreate()"
   ]
  },
  {
   "cell_type": "code",
   "execution_count": 103,
   "id": "engaging-summary",
   "metadata": {},
   "outputs": [],
   "source": [
    "movies_df = spark.createDataFrame(movies)"
   ]
  },
  {
   "cell_type": "markdown",
   "id": "failing-steps",
   "metadata": {},
   "source": [
    "We then saw that our dataframe is really just a simpler interface for interacting with our resilient distributed dataset.  And because of this, it contains the same features of our RDD: it's distributed, it's lazy, and allows for only coarse grained transformations.\n",
    "\n",
    "This knowledge gave us some insight into how to interact with our dataframe.  So we saw that to select specific columns, we have to use the `select` method, which operates as a `transformation` and then use the `show` method as our action. "
   ]
  },
  {
   "cell_type": "code",
   "execution_count": 104,
   "id": "entitled-penetration",
   "metadata": {},
   "outputs": [
    {
     "name": "stdout",
     "output_type": "stream",
     "text": [
      "+--------------------+---------+\n",
      "|               title|    genre|\n",
      "+--------------------+---------+\n",
      "|             Shazam!|   Comedy|\n",
      "|      Captain Marvel|   Action|\n",
      "|         Escape Room|   Horror|\n",
      "|How to Train A Dr...|Animation|\n",
      "+--------------------+---------+\n",
      "\n"
     ]
    }
   ],
   "source": [
    "movies_df.select(['title', 'genre']).show()"
   ]
  },
  {
   "cell_type": "markdown",
   "id": "unauthorized-marathon",
   "metadata": {},
   "source": [
    "### Resources\n",
    "\n",
    "[Pyspark operations](https://hendra-herviawan.github.io/)\n",
    "\n",
    "[Pyspark DataFrame Rows and Columns](https://hendra-herviawan.github.io/pyspark-dataframe-row-columns.html)\n",
    "\n",
    "[Creating a Dataframe](https://neapowers.com/pyspark/createdataframe-todf/)\n",
    "\n",
    "[Spark by Examples](https://sparkbyexamples.com/pyspark-tutorial/#pyspark-dataframe)\n",
    "\n",
    "[Data Partitioning Spark](https://kontext.tech/column/spark/296/data-partitioning-in-spark-pyspark-in-depth-walkthrough)\n"
   ]
  },
  {
   "cell_type": "markdown",
   "id": "dense-sender",
   "metadata": {},
   "source": [
    "[DataBricks RDD to Dataframe](https://databricks.com/glossary/what-is-rdd)"
   ]
  },
  {
   "cell_type": "markdown",
   "id": "purple-kidney",
   "metadata": {},
   "source": [
    "[DataFrame Programming Guide](https://spark.apache.org/docs/latest/sql-programming-guide.html)"
   ]
  }
 ],
 "metadata": {
  "kernelspec": {
   "display_name": "Python 3",
   "language": "python",
   "name": "python3"
  },
  "language_info": {
   "codemirror_mode": {
    "name": "ipython",
    "version": 3
   },
   "file_extension": ".py",
   "mimetype": "text/x-python",
   "name": "python",
   "nbconvert_exporter": "python",
   "pygments_lexer": "ipython3",
   "version": "3.8.6"
  }
 },
 "nbformat": 4,
 "nbformat_minor": 5
}
