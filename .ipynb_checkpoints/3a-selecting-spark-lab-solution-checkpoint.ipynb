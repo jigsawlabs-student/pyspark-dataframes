{
 "cells": [
  {
   "cell_type": "markdown",
   "id": "vocal-texture",
   "metadata": {},
   "source": [
    "# Selecting with Spark Lab"
   ]
  },
  {
   "cell_type": "markdown",
   "id": "according-fight",
   "metadata": {},
   "source": [
    "### Introduction"
   ]
  },
  {
   "cell_type": "markdown",
   "id": "agricultural-execution",
   "metadata": {},
   "source": [
    "In this lesson, we'll work with dataframes to explore a dataset.  Let's get started."
   ]
  },
  {
   "cell_type": "markdown",
   "id": "specialized-journalism",
   "metadata": {},
   "source": [
    "### Getting Set Up (For Google Colab)"
   ]
  },
  {
   "cell_type": "markdown",
   "id": "mobile-jumping",
   "metadata": {},
   "source": [
    "> If we are running this on google colab, we can run the following to eventually interact with our Spark UI."
   ]
  },
  {
   "cell_type": "markdown",
   "id": "auburn-programming",
   "metadata": {},
   "source": [
    "* Begin by installing some pip packages and the java development kit."
   ]
  },
  {
   "cell_type": "code",
   "execution_count": null,
   "id": "crazy-banks",
   "metadata": {},
   "outputs": [],
   "source": [
    "!pip install pyspark --quiet\n",
    "!pip install -U -q PyDrive --quiet \n",
    "!apt install openjdk-8-jdk-headless &> /dev/null"
   ]
  },
  {
   "cell_type": "markdown",
   "id": "forty-storm",
   "metadata": {},
   "source": [
    "* Then set the java environmental variable"
   ]
  },
  {
   "cell_type": "code",
   "execution_count": null,
   "id": "nutritional-opera",
   "metadata": {},
   "outputs": [],
   "source": [
    "import os\n",
    "os.environ[\"JAVA_HOME\"] = \"/usr/lib/jvm/java-8-openjdk-amd64\""
   ]
  },
  {
   "cell_type": "markdown",
   "id": "sticky-theory",
   "metadata": {},
   "source": [
    "* Then connect to a SparkSession, setting the spark ui port to `4050`."
   ]
  },
  {
   "cell_type": "code",
   "execution_count": null,
   "id": "spread-fitness",
   "metadata": {},
   "outputs": [],
   "source": [
    "from pyspark.sql import SparkSession\n",
    "\n",
    "spark = SparkSession \\\n",
    "    .builder \\\n",
    "    .appName(\"civComplaints\") \\\n",
    "    .config(\"spark.ui.port\", \"4050\") \\\n",
    "    .getOrCreate()"
   ]
  },
  {
   "cell_type": "markdown",
   "id": "defensive-variation",
   "metadata": {},
   "source": [
    "* Then we need to install ngrok which will allow us to place our local spark ui on the web."
   ]
  },
  {
   "cell_type": "code",
   "execution_count": 1,
   "id": "civil-greeting",
   "metadata": {},
   "outputs": [],
   "source": [
    "!wget https://bin.equinox.io/c/4VmDzA7iaHb/ngrok-stable-linux-amd64.zip &> /dev/null\n",
    "!unzip ngrok-stable-linux-amd64.zip &> /dev/null\n",
    "get_ipython().system_raw('./ngrok http 4050 &')"
   ]
  },
  {
   "cell_type": "markdown",
   "id": "fourth-reconstruction",
   "metadata": {},
   "source": [
    "* And finally we get a link our Spark UI"
   ]
  },
  {
   "cell_type": "code",
   "execution_count": null,
   "id": "rough-movie",
   "metadata": {},
   "outputs": [],
   "source": [
    "!curl -s http://localhost:4040/api/tunnels | python3 -c \\\n",
    "    \"import sys, json; print(json.load(sys.stdin)['tunnels'][0]['public_url'])\""
   ]
  },
  {
   "cell_type": "markdown",
   "id": "quick-envelope",
   "metadata": {},
   "source": [
    "### Getting Started"
   ]
  },
  {
   "cell_type": "markdown",
   "id": "perfect-locator",
   "metadata": {},
   "source": [
    "> If you skipped the above section, be sure to set a SparkSession in the cell below.  We can have the appName be `civComplaints`."
   ]
  },
  {
   "cell_type": "code",
   "execution_count": null,
   "id": "proof-branch",
   "metadata": {},
   "outputs": [],
   "source": [
    "from pyspark.sql import SparkSession\n",
    "\n",
    "spark = SparkSession \\\n",
    "    .builder \\\n",
    "    .appName(\"civComplaints\") \\\n",
    "    .getOrCreate()"
   ]
  },
  {
   "cell_type": "markdown",
   "id": "graduate-woman",
   "metadata": {},
   "source": [
    "And now let's view open up the Spark UI, so we can see what's occurring as we use Spark.  If we are running in a google colab click the link above.  Or if running on your local computer, type in `spark`, we'll see a link to our Spark UI. "
   ]
  },
  {
   "cell_type": "code",
   "execution_count": 9,
   "id": "accurate-tuesday",
   "metadata": {},
   "outputs": [
    {
     "data": {
      "text/html": [
       "\n",
       "            <div>\n",
       "                <p><b>SparkSession - in-memory</b></p>\n",
       "                \n",
       "        <div>\n",
       "            <p><b>SparkContext</b></p>\n",
       "\n",
       "            <p><a href=\"http://jeffreys-air.home:4040\">Spark UI</a></p>\n",
       "\n",
       "            <dl>\n",
       "              <dt>Version</dt>\n",
       "                <dd><code>v3.1.1</code></dd>\n",
       "              <dt>Master</dt>\n",
       "                <dd><code>local[*]</code></dd>\n",
       "              <dt>AppName</dt>\n",
       "                <dd><code>Python Spark SQL basic example</code></dd>\n",
       "            </dl>\n",
       "        </div>\n",
       "        \n",
       "            </div>\n",
       "        "
      ],
      "text/plain": [
       "<pyspark.sql.session.SparkSession at 0x1432ab940>"
      ]
     },
     "execution_count": 9,
     "metadata": {},
     "output_type": "execute_result"
    }
   ],
   "source": [
    "spark"
   ]
  },
  {
   "cell_type": "markdown",
   "id": "balanced-antenna",
   "metadata": {},
   "source": [
    "Ok, with our Spark UI opened in a new tab, it's time to begin loading our data.  We'll first load up our data into a pandas dataframe."
   ]
  },
  {
   "cell_type": "code",
   "execution_count": 21,
   "id": "hairy-afghanistan",
   "metadata": {},
   "outputs": [],
   "source": [
    "url = \"s3://jigsaw-labs/civ_complaints.csv\"\n",
    "import pandas as pd\n",
    "df = pd.read_csv(url).astype(str)"
   ]
  },
  {
   "cell_type": "markdown",
   "id": "recreational-toronto",
   "metadata": {},
   "source": [
    "And now, we'll need to convert this into a spark dataframe."
   ]
  },
  {
   "cell_type": "code",
   "execution_count": 22,
   "id": "crazy-feedback",
   "metadata": {},
   "outputs": [],
   "source": [
    "complaints_df = spark.createDataFrame(df)"
   ]
  },
  {
   "cell_type": "code",
   "execution_count": 23,
   "id": "electronic-report",
   "metadata": {},
   "outputs": [
    {
     "data": {
      "text/plain": [
       "DataFrame[Extract Run Date: string, Randomized Id: string, CCRB Received Year: string, Days Between Incident Date and Received Date: string, Case Type: string, Complaint Received Place: string, Complaint Received Mode: string, Borough Of Incident: string, Patrol Borough Of Incident: string, Reason For Initial Contact: string]"
      ]
     },
     "execution_count": 23,
     "metadata": {},
     "output_type": "execute_result"
    }
   ],
   "source": [
    "complaints_df\n",
    "# DataFrame[Extract Run Date: string, Randomized Id: string, \n",
    "# CCRB Received Year: string, Days Between Incident Date and Received Date: string,\n",
    "# Case Type: string, Complaint Received Place: string, \n",
    "# Complaint Received Mode: string, Borough Of Incident: string, \n",
    "# Patrol Borough Of Incident: string, Reason For Initial Contact: string]"
   ]
  },
  {
   "cell_type": "markdown",
   "id": "accomplished-blackjack",
   "metadata": {},
   "source": [
    "So we can begin to see some of the columns that we have some of our dataset."
   ]
  },
  {
   "cell_type": "markdown",
   "id": "offensive-crazy",
   "metadata": {},
   "source": [
    "### Exploring Data"
   ]
  },
  {
   "cell_type": "markdown",
   "id": "incoming-procurement",
   "metadata": {},
   "source": [
    "Let's get a better sense by displaying the schema."
   ]
  },
  {
   "cell_type": "code",
   "execution_count": 24,
   "id": "existing-cheese",
   "metadata": {},
   "outputs": [
    {
     "name": "stdout",
     "output_type": "stream",
     "text": [
      "root\n",
      " |-- Extract Run Date: string (nullable = true)\n",
      " |-- Randomized Id: string (nullable = true)\n",
      " |-- CCRB Received Year: string (nullable = true)\n",
      " |-- Days Between Incident Date and Received Date: string (nullable = true)\n",
      " |-- Case Type: string (nullable = true)\n",
      " |-- Complaint Received Place: string (nullable = true)\n",
      " |-- Complaint Received Mode: string (nullable = true)\n",
      " |-- Borough Of Incident: string (nullable = true)\n",
      " |-- Patrol Borough Of Incident: string (nullable = true)\n",
      " |-- Reason For Initial Contact: string (nullable = true)\n",
      "\n"
     ]
    }
   ],
   "source": [
    "complaints_df.printSchema()"
   ]
  },
  {
   "cell_type": "markdown",
   "id": "clean-share",
   "metadata": {},
   "source": [
    "Let's also display the first two records of our dataset, and set vertical to `True`."
   ]
  },
  {
   "cell_type": "code",
   "execution_count": 27,
   "id": "present-purchase",
   "metadata": {},
   "outputs": [
    {
     "name": "stdout",
     "output_type": "stream",
     "text": [
      "-RECORD 0------------------------------------------------------------\n",
      " Extract Run Date                             | 05/25/2018           \n",
      " Randomized Id                                | 1                    \n",
      " CCRB Received Year                           | 2000                 \n",
      " Days Between Incident Date and Received Date | 2.0                  \n",
      " Case Type                                    | IAB                  \n",
      " Complaint Received Place                     | CCRB                 \n",
      " Complaint Received Mode                      | Phone                \n",
      " Borough Of Incident                          | Bronx                \n",
      " Patrol Borough Of Incident                   | Bronx                \n",
      " Reason For Initial Contact                   | PD suspected C/V ... \n",
      "-RECORD 1------------------------------------------------------------\n",
      " Extract Run Date                             | 05/25/2018           \n",
      " Randomized Id                                | 2                    \n",
      " CCRB Received Year                           | 2000                 \n",
      " Days Between Incident Date and Received Date | 86.0                 \n",
      " Case Type                                    | OCD                  \n",
      " Complaint Received Place                     | Other NYPD unit      \n",
      " Complaint Received Mode                      | In-person            \n",
      " Borough Of Incident                          | Brooklyn             \n",
      " Patrol Borough Of Incident                   | Brooklyn North       \n",
      " Reason For Initial Contact                   | Parking violation    \n",
      "-RECORD 2------------------------------------------------------------\n",
      " Extract Run Date                             | 05/25/2018           \n",
      " Randomized Id                                | 3                    \n",
      " CCRB Received Year                           | 2000                 \n",
      " Days Between Incident Date and Received Date | 0.0                  \n",
      " Case Type                                    | OCD                  \n",
      " Complaint Received Place                     | CCRB                 \n",
      " Complaint Received Mode                      | Phone                \n",
      " Borough Of Incident                          | Queens               \n",
      " Patrol Borough Of Incident                   | Other                \n",
      " Reason For Initial Contact                   | nan                  \n",
      "only showing top 3 rows\n",
      "\n"
     ]
    }
   ],
   "source": [
    "complaints_df.show(3, vertical = True)"
   ]
  },
  {
   "cell_type": "markdown",
   "id": "provincial-joint",
   "metadata": {},
   "source": [
    "Now take a look at the Spark UI.  View the most recent job, and click on the Stage to get a more detailed view of the steps in the stage."
   ]
  },
  {
   "cell_type": "markdown",
   "id": "associate-thanksgiving",
   "metadata": {},
   "source": [
    "> Notice that the first step was `readRDDFromFile`, so our data was loaded in this stage, and then later on we see an `applySchemaToPythonRDD`, where it seems that our columns were formatted.  After these steps, then the printing of the first few rows occurred."
   ]
  },
  {
   "cell_type": "markdown",
   "id": "light-apache",
   "metadata": {},
   "source": [
    "> <img src=\"./dag_viz_print.png\" width=\"40%\">"
   ]
  },
  {
   "cell_type": "markdown",
   "id": "ignored-disposition",
   "metadata": {},
   "source": [
    "Also, if we take a look at the tasks, we can see that only one of the cores was used for this call."
   ]
  },
  {
   "cell_type": "markdown",
   "id": "color-district",
   "metadata": {},
   "source": [
    "> <img src=\"./total_tasks.png\" width=\"90%\">"
   ]
  },
  {
   "cell_type": "markdown",
   "id": "informed-cabinet",
   "metadata": {},
   "source": [
    "### Viewing Columns"
   ]
  },
  {
   "cell_type": "markdown",
   "id": "sporting-appointment",
   "metadata": {},
   "source": [
    "Ok, so now let's select narrow down our data by just displaying a couple of columns.  We can view the various columns by viewing the `columns` attribute:"
   ]
  },
  {
   "cell_type": "code",
   "execution_count": 29,
   "id": "fitting-triple",
   "metadata": {},
   "outputs": [
    {
     "data": {
      "text/plain": [
       "['Extract Run Date',\n",
       " 'Randomized Id',\n",
       " 'CCRB Received Year',\n",
       " 'Days Between Incident Date and Received Date',\n",
       " 'Case Type',\n",
       " 'Complaint Received Place',\n",
       " 'Complaint Received Mode',\n",
       " 'Borough Of Incident',\n",
       " 'Patrol Borough Of Incident',\n",
       " 'Reason For Initial Contact']"
      ]
     },
     "execution_count": 29,
     "metadata": {},
     "output_type": "execute_result"
    }
   ],
   "source": [
    "complaints_df.columns"
   ]
  },
  {
   "cell_type": "markdown",
   "id": "powered-feelings",
   "metadata": {},
   "source": [
    "And from here, let's just select the `Borough of Incident` column.  And display the first 3 results."
   ]
  },
  {
   "cell_type": "code",
   "execution_count": 36,
   "id": "executive-cabinet",
   "metadata": {},
   "outputs": [
    {
     "name": "stdout",
     "output_type": "stream",
     "text": [
      "+-------------------+\n",
      "|Borough of Incident|\n",
      "+-------------------+\n",
      "|              Bronx|\n",
      "|           Brooklyn|\n",
      "|             Queens|\n",
      "+-------------------+\n",
      "only showing top 3 rows\n",
      "\n"
     ]
    }
   ],
   "source": [
    "complaints_df.select('Borough of Incident').show(3)"
   ]
  },
  {
   "cell_type": "markdown",
   "id": "compatible-graph",
   "metadata": {},
   "source": [
    "Ok, now let's select both the `Borough of Incident` and the `Reason for Initial Contact`, and display the first three rows. "
   ]
  },
  {
   "cell_type": "code",
   "execution_count": 34,
   "id": "trying-coupon",
   "metadata": {},
   "outputs": [
    {
     "name": "stdout",
     "output_type": "stream",
     "text": [
      "+-------------------+--------------------------+\n",
      "|Borough of Incident|Reason For Initial Contact|\n",
      "+-------------------+--------------------------+\n",
      "|              Bronx|      PD suspected C/V ...|\n",
      "|           Brooklyn|         Parking violation|\n",
      "|             Queens|                       nan|\n",
      "+-------------------+--------------------------+\n",
      "only showing top 3 rows\n",
      "\n"
     ]
    }
   ],
   "source": [
    "complaints_df.select(['Borough of Incident', 'Reason For Initial Contact']).show(3)"
   ]
  },
  {
   "cell_type": "markdown",
   "id": "exceptional-speed",
   "metadata": {},
   "source": [
    "### Selecting Rows"
   ]
  },
  {
   "cell_type": "markdown",
   "id": "utility-allowance",
   "metadata": {},
   "source": [
    "Now that we've practiced selecting our columns, let's also select our rows.  So to begin, select all of the complaints located in `Brooklyn`, and display the first two results vertically."
   ]
  },
  {
   "cell_type": "code",
   "execution_count": 40,
   "id": "demanding-killer",
   "metadata": {},
   "outputs": [
    {
     "name": "stdout",
     "output_type": "stream",
     "text": [
      "-RECORD 0---------------------------------------------------------\n",
      " Extract Run Date                             | 05/25/2018        \n",
      " Randomized Id                                | 2                 \n",
      " CCRB Received Year                           | 2000              \n",
      " Days Between Incident Date and Received Date | 86.0              \n",
      " Case Type                                    | OCD               \n",
      " Complaint Received Place                     | Other NYPD unit   \n",
      " Complaint Received Mode                      | In-person         \n",
      " Borough Of Incident                          | Brooklyn          \n",
      " Patrol Borough Of Incident                   | Brooklyn North    \n",
      " Reason For Initial Contact                   | Parking violation \n",
      "-RECORD 1---------------------------------------------------------\n",
      " Extract Run Date                             | 05/25/2018        \n",
      " Randomized Id                                | 6                 \n",
      " CCRB Received Year                           | 2000              \n",
      " Days Between Incident Date and Received Date | 1.0               \n",
      " Case Type                                    | CCRB              \n",
      " Complaint Received Place                     | CCRB              \n",
      " Complaint Received Mode                      | Phone             \n",
      " Borough Of Incident                          | Brooklyn          \n",
      " Patrol Borough Of Incident                   | Brooklyn South    \n",
      " Reason For Initial Contact                   | Other             \n",
      "only showing top 2 rows\n",
      "\n"
     ]
    }
   ],
   "source": [
    "complaints_df[complaints_df['Borough of Incident'] == 'Brooklyn'].show(2, vertical = True)"
   ]
  },
  {
   "cell_type": "markdown",
   "id": "super-tooth",
   "metadata": {},
   "source": [
    "Ok, let's say we only care about the `Reason For Initial Contact` in Brooklyn.  So this time, select only the incidents that occurred in Brooklyn, and only select the `Borough of Incident` and `Reason For Initial Contact` columns.  Display the first 5 results."
   ]
  },
  {
   "cell_type": "code",
   "execution_count": 43,
   "id": "graphic-fence",
   "metadata": {},
   "outputs": [
    {
     "name": "stdout",
     "output_type": "stream",
     "text": [
      "+-------------------+--------------------------+\n",
      "|Borough of Incident|Reason For Initial Contact|\n",
      "+-------------------+--------------------------+\n",
      "|           Brooklyn|         Parking violation|\n",
      "|           Brooklyn|                     Other|\n",
      "|           Brooklyn|      Other violation o...|\n",
      "|           Brooklyn|                       nan|\n",
      "|           Brooklyn|      PD suspected C/V ...|\n",
      "+-------------------+--------------------------+\n",
      "only showing top 5 rows\n",
      "\n"
     ]
    }
   ],
   "source": [
    "complaints_df[complaints_df['Borough of Incident'] == 'Brooklyn'].select(['Borough of Incident', 'Reason For Initial Contact']).show(5)\n",
    "\n",
    "# +-------------------+--------------------------+\n",
    "# |Borough of Incident|Reason For Initial Contact|\n",
    "# +-------------------+--------------------------+\n",
    "# |           Brooklyn|         Parking violation|\n",
    "# |           Brooklyn|                     Other|\n",
    "# |           Brooklyn|      Other violation o...|\n",
    "# |           Brooklyn|                       nan|\n",
    "# |           Brooklyn|      PD suspected C/V ...|\n",
    "# +-------------------+--------------------------+\n",
    "# only showing top 5 rows"
   ]
  },
  {
   "cell_type": "markdown",
   "id": "insured-civilization",
   "metadata": {},
   "source": [
    "Finally, note that in our list of columns we do have an `Randomized Id`."
   ]
  },
  {
   "cell_type": "code",
   "execution_count": 44,
   "id": "formed-controversy",
   "metadata": {},
   "outputs": [
    {
     "data": {
      "text/plain": [
       "['Extract Run Date',\n",
       " 'Randomized Id',\n",
       " 'CCRB Received Year',\n",
       " 'Days Between Incident Date and Received Date',\n",
       " 'Case Type',\n",
       " 'Complaint Received Place',\n",
       " 'Complaint Received Mode',\n",
       " 'Borough Of Incident',\n",
       " 'Patrol Borough Of Incident',\n",
       " 'Reason For Initial Contact']"
      ]
     },
     "execution_count": 44,
     "metadata": {},
     "output_type": "execute_result"
    }
   ],
   "source": [
    "complaints_df.columns"
   ]
  },
  {
   "cell_type": "markdown",
   "id": "noticed-firewall",
   "metadata": {},
   "source": [
    "So let's practice selecting a row of data by that id.  Select the record with the randomized id equal to `200`, and display the result vertically."
   ]
  },
  {
   "cell_type": "code",
   "execution_count": 46,
   "id": "ready-apache",
   "metadata": {},
   "outputs": [
    {
     "name": "stdout",
     "output_type": "stream",
     "text": [
      "-RECORD 0--------------------------------------------------\n",
      " Extract Run Date                             | 05/25/2018 \n",
      " Randomized Id                                | 200        \n",
      " CCRB Received Year                           | 2000       \n",
      " Days Between Incident Date and Received Date | 9.0        \n",
      " Case Type                                    | OCD        \n",
      " Complaint Received Place                     | IAB        \n",
      " Complaint Received Mode                      | Phone      \n",
      " Borough Of Incident                          | Queens     \n",
      " Patrol Borough Of Incident                   | Other      \n",
      " Reason For Initial Contact                   | nan        \n",
      "\n"
     ]
    }
   ],
   "source": [
    "complaints_df[complaints_df['Randomized Id'] == 200].show(vertical = True)\n",
    "\n",
    "# -RECORD 0--------------------------------------------------\n",
    "#  Extract Run Date                             | 05/25/2018 \n",
    "#  Randomized Id                                | 200        \n",
    "#  CCRB Received Year                           | 2000       \n",
    "#  Days Between Incident Date and Received Date | 9.0        \n",
    "#  Case Type                                    | OCD        \n",
    "#  Complaint Received Place                     | IAB        \n",
    "#  Complaint Received Mode                      | Phone      \n",
    "#  Borough Of Incident                          | Queens     \n",
    "#  Patrol Borough Of Incident                   | Other      \n",
    "#  Reason For Initial Contact                   | nan   "
   ]
  },
  {
   "cell_type": "markdown",
   "id": "prerequisite-latvia",
   "metadata": {},
   "source": [
    "So even though Spark does not allow us to access a record with an index, we still can filter through the records to find a match."
   ]
  },
  {
   "cell_type": "markdown",
   "id": "addressed-efficiency",
   "metadata": {},
   "source": [
    "### Summary"
   ]
  },
  {
   "cell_type": "markdown",
   "id": "binding-saudi",
   "metadata": {},
   "source": [
    "In this lesson, we practiced understanding the spark calls in a Spark dataframe, and did so by displaying a few rows of data and then looking at the DAG in the Spark UI.  From there we practiced using various Spark methods like the following:"
   ]
  },
  {
   "cell_type": "markdown",
   "id": "involved-parameter",
   "metadata": {},
   "source": [
    "* `printSchema` to display the schema\n",
    "* `columns` to list just the columns\n",
    "* `select` to select specific columns\n",
    "* `df[df[column] == 'value']` to select specific rows"
   ]
  }
 ],
 "metadata": {
  "kernelspec": {
   "display_name": "Python 3",
   "language": "python",
   "name": "python3"
  },
  "language_info": {
   "codemirror_mode": {
    "name": "ipython",
    "version": 3
   },
   "file_extension": ".py",
   "mimetype": "text/x-python",
   "name": "python",
   "nbconvert_exporter": "python",
   "pygments_lexer": "ipython3",
   "version": "3.8.6"
  }
 },
 "nbformat": 4,
 "nbformat_minor": 5
}
