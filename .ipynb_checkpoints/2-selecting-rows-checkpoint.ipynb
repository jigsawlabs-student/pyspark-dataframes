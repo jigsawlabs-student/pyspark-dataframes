{
 "cells": [
  {
   "cell_type": "markdown",
   "id": "signed-assumption",
   "metadata": {},
   "source": [
    "# Selecting Rows"
   ]
  },
  {
   "cell_type": "markdown",
   "id": "fatal-liverpool",
   "metadata": {},
   "source": [
    "### Introduction"
   ]
  },
  {
   "cell_type": "markdown",
   "id": "electronic-silicon",
   "metadata": {},
   "source": [
    "In this lesson, we'll work selecting data across multiple rows."
   ]
  },
  {
   "cell_type": "markdown",
   "id": "authentic-gates",
   "metadata": {},
   "source": [
    "### Selecting by rows"
   ]
  },
  {
   "cell_type": "markdown",
   "id": "finished-access",
   "metadata": {},
   "source": [
    "Let's begin once again by creating our Spark Session."
   ]
  },
  {
   "cell_type": "code",
   "execution_count": 4,
   "id": "integral-machine",
   "metadata": {},
   "outputs": [],
   "source": [
    "from pyspark.sql import SparkSession\n",
    "\n",
    "spark = SparkSession \\\n",
    "    .builder \\\n",
    "    .appName(\"films\") \\\n",
    "    .config(\"spark.some.config.option\", \"some-value\") \\\n",
    "    .getOrCreate()"
   ]
  },
  {
   "cell_type": "markdown",
   "id": "national-banks",
   "metadata": {},
   "source": [
    "And then we'll load in some data into pandas."
   ]
  },
  {
   "cell_type": "code",
   "execution_count": 28,
   "id": "disabled-breeding",
   "metadata": {},
   "outputs": [],
   "source": [
    "import pandas as pd\n",
    "movies_df = pd.read_csv('./imdb_movies.csv')"
   ]
  },
  {
   "cell_type": "markdown",
   "id": "mobile-advancement",
   "metadata": {},
   "source": [
    "Then let's create our dataframe and take a look."
   ]
  },
  {
   "cell_type": "code",
   "execution_count": 29,
   "id": "through-greenhouse",
   "metadata": {},
   "outputs": [],
   "source": [
    "movies_rdd = spark.createDataFrame(movies_df.astype(str))"
   ]
  },
  {
   "cell_type": "code",
   "execution_count": 30,
   "id": "later-symbol",
   "metadata": {},
   "outputs": [
    {
     "name": "stdout",
     "output_type": "stream",
     "text": [
      "+--------------------+---------+---------+-------+----+-----+----------+\n",
      "|               title|    genre|   budget|runtime|year|month|   revenue|\n",
      "+--------------------+---------+---------+-------+----+-----+----------+\n",
      "|              Avatar|   Action|237000000|  162.0|2009|   12|2787965087|\n",
      "|Pirates of the Ca...|Adventure|300000000|  169.0|2007|    5| 961000000|\n",
      "|             Spectre|   Action|245000000|  148.0|2015|   10| 880674609|\n",
      "+--------------------+---------+---------+-------+----+-----+----------+\n",
      "only showing top 3 rows\n",
      "\n"
     ]
    }
   ],
   "source": [
    "movies_rdd.show(3)"
   ]
  },
  {
   "cell_type": "markdown",
   "id": "approved-vanilla",
   "metadata": {},
   "source": [
    "Now in Spark, as we know, once thing we cannot do is select a row by the index.  Instead, we can `filter` a row by a unique matching attribute."
   ]
  },
  {
   "cell_type": "markdown",
   "id": "martial-shark",
   "metadata": {},
   "source": [
    "For example, below we'll find rows that have the title of `Spectre`."
   ]
  },
  {
   "cell_type": "code",
   "execution_count": 31,
   "id": "underlying-greek",
   "metadata": {},
   "outputs": [
    {
     "name": "stdout",
     "output_type": "stream",
     "text": [
      "+-------+------+---------+-------+----+-----+---------+\n",
      "|  title| genre|   budget|runtime|year|month|  revenue|\n",
      "+-------+------+---------+-------+----+-----+---------+\n",
      "|Spectre|Action|245000000|  148.0|2015|   10|880674609|\n",
      "+-------+------+---------+-------+----+-----+---------+\n",
      "\n"
     ]
    }
   ],
   "source": [
    "movies_rdd[movies_rdd['title'] == 'Spectre'].show()"
   ]
  },
  {
   "cell_type": "markdown",
   "id": "nervous-nerve",
   "metadata": {},
   "source": [
    "### Breaking it down in pandas"
   ]
  },
  {
   "cell_type": "markdown",
   "id": "becoming-reviewer",
   "metadata": {},
   "source": [
    "Now understanding why the above works in PySpark is a little complicated to see.  It's actually easier if we briefly switch over to Pandas."
   ]
  },
  {
   "cell_type": "markdown",
   "id": "experimental-tension",
   "metadata": {},
   "source": [
    "> Pandas is a Python library that also allows us to easily create dataframes.  But unlike Pyspark, it does not work with distributed datasets."
   ]
  },
  {
   "cell_type": "markdown",
   "id": "gross-underground",
   "metadata": {},
   "source": [
    "The operation in to select by a row, is quite similar.  Let's take another look at our dataframe in pandas."
   ]
  },
  {
   "cell_type": "code",
   "execution_count": 33,
   "id": "bulgarian-sacrifice",
   "metadata": {},
   "outputs": [
    {
     "data": {
      "text/html": [
       "<div>\n",
       "<style scoped>\n",
       "    .dataframe tbody tr th:only-of-type {\n",
       "        vertical-align: middle;\n",
       "    }\n",
       "\n",
       "    .dataframe tbody tr th {\n",
       "        vertical-align: top;\n",
       "    }\n",
       "\n",
       "    .dataframe thead th {\n",
       "        text-align: right;\n",
       "    }\n",
       "</style>\n",
       "<table border=\"1\" class=\"dataframe\">\n",
       "  <thead>\n",
       "    <tr style=\"text-align: right;\">\n",
       "      <th></th>\n",
       "      <th>title</th>\n",
       "      <th>genre</th>\n",
       "      <th>budget</th>\n",
       "      <th>runtime</th>\n",
       "      <th>year</th>\n",
       "      <th>month</th>\n",
       "      <th>revenue</th>\n",
       "    </tr>\n",
       "  </thead>\n",
       "  <tbody>\n",
       "    <tr>\n",
       "      <th>0</th>\n",
       "      <td>Avatar</td>\n",
       "      <td>Action</td>\n",
       "      <td>237000000</td>\n",
       "      <td>162.0</td>\n",
       "      <td>2009</td>\n",
       "      <td>12</td>\n",
       "      <td>2787965087</td>\n",
       "    </tr>\n",
       "    <tr>\n",
       "      <th>1</th>\n",
       "      <td>Pirates of the Caribbean: At World's End</td>\n",
       "      <td>Adventure</td>\n",
       "      <td>300000000</td>\n",
       "      <td>169.0</td>\n",
       "      <td>2007</td>\n",
       "      <td>5</td>\n",
       "      <td>961000000</td>\n",
       "    </tr>\n",
       "    <tr>\n",
       "      <th>2</th>\n",
       "      <td>Spectre</td>\n",
       "      <td>Action</td>\n",
       "      <td>245000000</td>\n",
       "      <td>148.0</td>\n",
       "      <td>2015</td>\n",
       "      <td>10</td>\n",
       "      <td>880674609</td>\n",
       "    </tr>\n",
       "    <tr>\n",
       "      <th>3</th>\n",
       "      <td>The Dark Knight Rises</td>\n",
       "      <td>Action</td>\n",
       "      <td>250000000</td>\n",
       "      <td>165.0</td>\n",
       "      <td>2012</td>\n",
       "      <td>7</td>\n",
       "      <td>1084939099</td>\n",
       "    </tr>\n",
       "    <tr>\n",
       "      <th>4</th>\n",
       "      <td>John Carter</td>\n",
       "      <td>Action</td>\n",
       "      <td>260000000</td>\n",
       "      <td>132.0</td>\n",
       "      <td>2012</td>\n",
       "      <td>3</td>\n",
       "      <td>284139100</td>\n",
       "    </tr>\n",
       "  </tbody>\n",
       "</table>\n",
       "</div>"
      ],
      "text/plain": [
       "                                      title      genre     budget  runtime  \\\n",
       "0                                    Avatar     Action  237000000    162.0   \n",
       "1  Pirates of the Caribbean: At World's End  Adventure  300000000    169.0   \n",
       "2                                   Spectre     Action  245000000    148.0   \n",
       "3                     The Dark Knight Rises     Action  250000000    165.0   \n",
       "4                               John Carter     Action  260000000    132.0   \n",
       "\n",
       "   year  month     revenue  \n",
       "0  2009     12  2787965087  \n",
       "1  2007      5   961000000  \n",
       "2  2015     10   880674609  \n",
       "3  2012      7  1084939099  \n",
       "4  2012      3   284139100  "
      ]
     },
     "execution_count": 33,
     "metadata": {},
     "output_type": "execute_result"
    }
   ],
   "source": [
    "movies_df.head()"
   ]
  },
  {
   "cell_type": "markdown",
   "id": "adolescent-andrews",
   "metadata": {},
   "source": [
    "And then we select the rows whose title is `Spectre`."
   ]
  },
  {
   "cell_type": "code",
   "execution_count": 36,
   "id": "collect-nirvana",
   "metadata": {},
   "outputs": [
    {
     "data": {
      "text/html": [
       "<div>\n",
       "<style scoped>\n",
       "    .dataframe tbody tr th:only-of-type {\n",
       "        vertical-align: middle;\n",
       "    }\n",
       "\n",
       "    .dataframe tbody tr th {\n",
       "        vertical-align: top;\n",
       "    }\n",
       "\n",
       "    .dataframe thead th {\n",
       "        text-align: right;\n",
       "    }\n",
       "</style>\n",
       "<table border=\"1\" class=\"dataframe\">\n",
       "  <thead>\n",
       "    <tr style=\"text-align: right;\">\n",
       "      <th></th>\n",
       "      <th>title</th>\n",
       "      <th>genre</th>\n",
       "      <th>budget</th>\n",
       "      <th>runtime</th>\n",
       "      <th>year</th>\n",
       "      <th>month</th>\n",
       "      <th>revenue</th>\n",
       "    </tr>\n",
       "  </thead>\n",
       "  <tbody>\n",
       "    <tr>\n",
       "      <th>2</th>\n",
       "      <td>Spectre</td>\n",
       "      <td>Action</td>\n",
       "      <td>245000000</td>\n",
       "      <td>148.0</td>\n",
       "      <td>2015</td>\n",
       "      <td>10</td>\n",
       "      <td>880674609</td>\n",
       "    </tr>\n",
       "  </tbody>\n",
       "</table>\n",
       "</div>"
      ],
      "text/plain": [
       "     title   genre     budget  runtime  year  month    revenue\n",
       "2  Spectre  Action  245000000    148.0  2015     10  880674609"
      ]
     },
     "execution_count": 36,
     "metadata": {},
     "output_type": "execute_result"
    }
   ],
   "source": [
    "movies_df[movies_df['title'] == 'Spectre']"
   ]
  },
  {
   "cell_type": "markdown",
   "id": "designing-bradford",
   "metadata": {},
   "source": [
    "So we can see that this is essentially the same way that we select by row in Pyspark."
   ]
  },
  {
   "cell_type": "markdown",
   "id": "solar-tampa",
   "metadata": {},
   "source": [
    "```python\n",
    "movies_rdd[movies_rdd['title'] == 'Spectre'].show()\n",
    "```"
   ]
  },
  {
   "cell_type": "markdown",
   "id": "challenging-terrorism",
   "metadata": {},
   "source": [
    "Ok, now let's explain why the pandas statement `movies_df[movies_df['title'] == 'Spectre']`.  The key is understanding the part inside of the square brackets."
   ]
  },
  {
   "cell_type": "code",
   "execution_count": 40,
   "id": "tamil-semester",
   "metadata": {},
   "outputs": [
    {
     "data": {
      "text/plain": [
       "0       False\n",
       "1       False\n",
       "2        True\n",
       "3       False\n",
       "4       False\n",
       "        ...  \n",
       "1995    False\n",
       "1996    False\n",
       "1997    False\n",
       "1998    False\n",
       "1999    False\n",
       "Name: title, Length: 2000, dtype: bool"
      ]
     },
     "execution_count": 40,
     "metadata": {},
     "output_type": "execute_result"
    }
   ],
   "source": [
    "movies_df['title'] == 'Spectre'"
   ]
  },
  {
   "cell_type": "markdown",
   "id": "impressive-concentrate",
   "metadata": {},
   "source": [
    "Notice that this returns a column of `True` or `False` values.  And these values are based on whether that row's title equals `Spectre`.  So this is why only the third record returns True."
   ]
  },
  {
   "cell_type": "markdown",
   "id": "sharing-ordinance",
   "metadata": {},
   "source": [
    "Then we pass this column of True or False values to the dataframe, and for each row where column's entry is True, we display that row."
   ]
  },
  {
   "cell_type": "code",
   "execution_count": 44,
   "id": "compact-venezuela",
   "metadata": {},
   "outputs": [
    {
     "data": {
      "text/html": [
       "<div>\n",
       "<style scoped>\n",
       "    .dataframe tbody tr th:only-of-type {\n",
       "        vertical-align: middle;\n",
       "    }\n",
       "\n",
       "    .dataframe tbody tr th {\n",
       "        vertical-align: top;\n",
       "    }\n",
       "\n",
       "    .dataframe thead th {\n",
       "        text-align: right;\n",
       "    }\n",
       "</style>\n",
       "<table border=\"1\" class=\"dataframe\">\n",
       "  <thead>\n",
       "    <tr style=\"text-align: right;\">\n",
       "      <th></th>\n",
       "      <th>title</th>\n",
       "      <th>genre</th>\n",
       "      <th>budget</th>\n",
       "      <th>runtime</th>\n",
       "      <th>year</th>\n",
       "      <th>month</th>\n",
       "      <th>revenue</th>\n",
       "    </tr>\n",
       "  </thead>\n",
       "  <tbody>\n",
       "    <tr>\n",
       "      <th>2</th>\n",
       "      <td>Spectre</td>\n",
       "      <td>Action</td>\n",
       "      <td>245000000</td>\n",
       "      <td>148.0</td>\n",
       "      <td>2015</td>\n",
       "      <td>10</td>\n",
       "      <td>880674609</td>\n",
       "    </tr>\n",
       "  </tbody>\n",
       "</table>\n",
       "</div>"
      ],
      "text/plain": [
       "     title   genre     budget  runtime  year  month    revenue\n",
       "2  Spectre  Action  245000000    148.0  2015     10  880674609"
      ]
     },
     "execution_count": 44,
     "metadata": {},
     "output_type": "execute_result"
    }
   ],
   "source": [
    "movies_df[movies_df['title'] == 'Spectre']"
   ]
  },
  {
   "cell_type": "markdown",
   "id": "deadly-america",
   "metadata": {},
   "source": [
    "So we can imagine the above as passing `False, False, True, False` to the dataframe, to only display the first row above."
   ]
  },
  {
   "cell_type": "code",
   "execution_count": 47,
   "id": "mental-beast",
   "metadata": {},
   "outputs": [
    {
     "data": {
      "text/html": [
       "<div>\n",
       "<style scoped>\n",
       "    .dataframe tbody tr th:only-of-type {\n",
       "        vertical-align: middle;\n",
       "    }\n",
       "\n",
       "    .dataframe tbody tr th {\n",
       "        vertical-align: top;\n",
       "    }\n",
       "\n",
       "    .dataframe thead th {\n",
       "        text-align: right;\n",
       "    }\n",
       "</style>\n",
       "<table border=\"1\" class=\"dataframe\">\n",
       "  <thead>\n",
       "    <tr style=\"text-align: right;\">\n",
       "      <th></th>\n",
       "      <th>title</th>\n",
       "      <th>genre</th>\n",
       "      <th>budget</th>\n",
       "      <th>runtime</th>\n",
       "      <th>year</th>\n",
       "      <th>month</th>\n",
       "      <th>revenue</th>\n",
       "    </tr>\n",
       "  </thead>\n",
       "  <tbody>\n",
       "    <tr>\n",
       "      <th>2</th>\n",
       "      <td>Spectre</td>\n",
       "      <td>Action</td>\n",
       "      <td>245000000</td>\n",
       "      <td>148.0</td>\n",
       "      <td>2015</td>\n",
       "      <td>10</td>\n",
       "      <td>880674609</td>\n",
       "    </tr>\n",
       "  </tbody>\n",
       "</table>\n",
       "</div>"
      ],
      "text/plain": [
       "     title   genre     budget  runtime  year  month    revenue\n",
       "2  Spectre  Action  245000000    148.0  2015     10  880674609"
      ]
     },
     "execution_count": 47,
     "metadata": {},
     "output_type": "execute_result"
    }
   ],
   "source": [
    "bool_values = [False, False, True, False]\n",
    "\n",
    "movies_df[:4][bool_values]"
   ]
  },
  {
   "cell_type": "markdown",
   "id": "precise-designation",
   "metadata": {},
   "source": [
    "### Moving to Pyspark"
   ]
  },
  {
   "cell_type": "markdown",
   "id": "standard-quantum",
   "metadata": {},
   "source": [
    "So selecting rows in Pyspark essentially works the same way.  We start with our dataframe."
   ]
  },
  {
   "cell_type": "code",
   "execution_count": 49,
   "id": "limiting-pharmaceutical",
   "metadata": {},
   "outputs": [
    {
     "name": "stdout",
     "output_type": "stream",
     "text": [
      "+--------------------+---------+---------+-------+----+-----+----------+\n",
      "|               title|    genre|   budget|runtime|year|month|   revenue|\n",
      "+--------------------+---------+---------+-------+----+-----+----------+\n",
      "|              Avatar|   Action|237000000|  162.0|2009|   12|2787965087|\n",
      "|Pirates of the Ca...|Adventure|300000000|  169.0|2007|    5| 961000000|\n",
      "|             Spectre|   Action|245000000|  148.0|2015|   10| 880674609|\n",
      "+--------------------+---------+---------+-------+----+-----+----------+\n",
      "only showing top 3 rows\n",
      "\n"
     ]
    }
   ],
   "source": [
    "movies_rdd.show(3)"
   ]
  },
  {
   "cell_type": "markdown",
   "id": "active-community",
   "metadata": {},
   "source": [
    "And then we can filter for rows where the title is Spectre with the following."
   ]
  },
  {
   "cell_type": "code",
   "execution_count": 50,
   "id": "offshore-slovak",
   "metadata": {},
   "outputs": [
    {
     "name": "stdout",
     "output_type": "stream",
     "text": [
      "+-------+------+---------+-------+----+-----+---------+\n",
      "|  title| genre|   budget|runtime|year|month|  revenue|\n",
      "+-------+------+---------+-------+----+-----+---------+\n",
      "|Spectre|Action|245000000|  148.0|2015|   10|880674609|\n",
      "+-------+------+---------+-------+----+-----+---------+\n",
      "\n"
     ]
    }
   ],
   "source": [
    "movies_rdd[movies_rdd['title'] == 'Spectre'].show()"
   ]
  },
  {
   "cell_type": "markdown",
   "id": "incorporate-syracuse",
   "metadata": {},
   "source": [
    "Where we can imagine the middle brackets as returning True or False values for each row of the dataframe."
   ]
  },
  {
   "cell_type": "code",
   "execution_count": 20,
   "id": "adequate-scale",
   "metadata": {},
   "outputs": [
    {
     "data": {
      "text/plain": [
       "Column<'(index = 1)'>"
      ]
     },
     "execution_count": 20,
     "metadata": {},
     "output_type": "execute_result"
    }
   ],
   "source": [
    "movies_df['index'] == 1"
   ]
  },
  {
   "cell_type": "markdown",
   "id": "following-mechanics",
   "metadata": {},
   "source": [
    "### Summary"
   ]
  },
  {
   "cell_type": "markdown",
   "id": "automotive-pressure",
   "metadata": {},
   "source": [
    "In this lesson, we learned how to select certain rows in a Pyspark dataframe.  As we saw, we do so with something like the following: "
   ]
  },
  {
   "cell_type": "code",
   "execution_count": 51,
   "id": "cathedral-career",
   "metadata": {},
   "outputs": [
    {
     "name": "stdout",
     "output_type": "stream",
     "text": [
      "+-------+------+---------+-------+----+-----+---------+\n",
      "|  title| genre|   budget|runtime|year|month|  revenue|\n",
      "+-------+------+---------+-------+----+-----+---------+\n",
      "|Spectre|Action|245000000|  148.0|2015|   10|880674609|\n",
      "+-------+------+---------+-------+----+-----+---------+\n",
      "\n"
     ]
    }
   ],
   "source": [
    "movies_rdd[movies_rdd['title'] == 'Spectre'].show()"
   ]
  },
  {
   "cell_type": "markdown",
   "id": "secondary-edmonton",
   "metadata": {},
   "source": [
    "And the key part is understanding the component in between the brackets."
   ]
  },
  {
   "cell_type": "code",
   "execution_count": 52,
   "id": "changing-toilet",
   "metadata": {},
   "outputs": [
    {
     "data": {
      "text/plain": [
       "Column<'(title = Spectre)'>"
      ]
     },
     "execution_count": 52,
     "metadata": {},
     "output_type": "execute_result"
    }
   ],
   "source": [
    "movies_rdd['title'] == 'Spectre'"
   ]
  },
  {
   "cell_type": "markdown",
   "id": "mighty-stream",
   "metadata": {},
   "source": [
    "We can imagine the code above returning a True or False value based on whether the value in the index column equals 1.  \n",
    "\n",
    "And then we pass this statement into our dataframe to return the records where the above statement returns True."
   ]
  },
  {
   "cell_type": "code",
   "execution_count": 54,
   "id": "chinese-richards",
   "metadata": {},
   "outputs": [
    {
     "name": "stdout",
     "output_type": "stream",
     "text": [
      "+-------+------+---------+-------+----+-----+---------+\n",
      "|  title| genre|   budget|runtime|year|month|  revenue|\n",
      "+-------+------+---------+-------+----+-----+---------+\n",
      "|Spectre|Action|245000000|  148.0|2015|   10|880674609|\n",
      "+-------+------+---------+-------+----+-----+---------+\n",
      "\n"
     ]
    }
   ],
   "source": [
    "movies_rdd[movies_rdd['title'] == 'Spectre'].show()"
   ]
  },
  {
   "cell_type": "markdown",
   "id": "irish-handy",
   "metadata": {},
   "source": [
    "### Resources\n",
    "\n",
    "[Gitbook Understanding Spark](https://mallikarjuna_g.gitbooks.io/spark/content/spark-overview.html)"
   ]
  }
 ],
 "metadata": {
  "kernelspec": {
   "display_name": "Python 3",
   "language": "python",
   "name": "python3"
  },
  "language_info": {
   "codemirror_mode": {
    "name": "ipython",
    "version": 3
   },
   "file_extension": ".py",
   "mimetype": "text/x-python",
   "name": "python",
   "nbconvert_exporter": "python",
   "pygments_lexer": "ipython3",
   "version": "3.8.6"
  }
 },
 "nbformat": 4,
 "nbformat_minor": 5
}
