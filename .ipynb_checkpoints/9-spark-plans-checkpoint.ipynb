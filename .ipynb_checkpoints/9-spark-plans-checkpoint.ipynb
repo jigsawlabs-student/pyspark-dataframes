{
 "cells": [
  {
   "cell_type": "markdown",
   "id": "sensitive-riverside",
   "metadata": {},
   "source": [
    "### Resilient DataFrames"
   ]
  },
  {
   "cell_type": "markdown",
   "id": "still-click",
   "metadata": {},
   "source": [
    "* Perhaps talk about Spark UI"
   ]
  },
  {
   "cell_type": "markdown",
   "id": "persistent-color",
   "metadata": {},
   "source": [
    "Remember that the other feature of our RDDs is that they are fault tolerant.  One way our RDDs achieve this is by keeping each RDD immutable and recording the steps needed to go from one RDD to the other.  \n",
    "\n",
    "Our dataframes operate the same way.   And we see that when "
   ]
  },
  {
   "cell_type": "code",
   "execution_count": 88,
   "id": "supposed-baseball",
   "metadata": {},
   "outputs": [
    {
     "data": {
      "text/plain": [
       "MapPartitionsRDD[55] at javaToPython at NativeMethodAccessorImpl.java:0"
      ]
     },
     "execution_count": 88,
     "metadata": {},
     "output_type": "execute_result"
    }
   ],
   "source": [
    "movies_df.rdd"
   ]
  },
  {
   "cell_type": "code",
   "execution_count": 91,
   "id": "breathing-vegetarian",
   "metadata": {},
   "outputs": [
    {
     "data": {
      "text/plain": [
       "MapPartitionsRDD[83] at javaToPython at NativeMethodAccessorImpl.java:0"
      ]
     },
     "execution_count": 91,
     "metadata": {},
     "output_type": "execute_result"
    }
   ],
   "source": [
    "selected_cols = movies_df.select(['title', 'genre']).rdd\n",
    "selected_cols"
   ]
  },
  {
   "cell_type": "code",
   "execution_count": 92,
   "id": "taken-bidder",
   "metadata": {},
   "outputs": [
    {
     "data": {
      "text/plain": [
       "MapPartitionsRDD[83] at javaToPython at NativeMethodAccessorImpl.java:0"
      ]
     },
     "execution_count": 92,
     "metadata": {},
     "output_type": "execute_result"
    }
   ],
   "source": []
  }
 ],
 "metadata": {
  "kernelspec": {
   "display_name": "Python 3",
   "language": "python",
   "name": "python3"
  },
  "language_info": {
   "codemirror_mode": {
    "name": "ipython",
    "version": 3
   },
   "file_extension": ".py",
   "mimetype": "text/x-python",
   "name": "python",
   "nbconvert_exporter": "python",
   "pygments_lexer": "ipython3",
   "version": "3.8.6"
  }
 },
 "nbformat": 4,
 "nbformat_minor": 5
}
