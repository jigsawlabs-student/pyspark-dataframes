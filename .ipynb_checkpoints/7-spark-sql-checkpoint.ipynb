{
 "cells": [
  {
   "cell_type": "markdown",
   "id": "incorrect-pixel",
   "metadata": {},
   "source": [
    "# Spark SQL"
   ]
  },
  {
   "cell_type": "markdown",
   "id": "hollywood-patch",
   "metadata": {},
   "source": [
    "### Introduction"
   ]
  },
  {
   "cell_type": "markdown",
   "id": "spread-circus",
   "metadata": {},
   "source": [
    "### Getting Started"
   ]
  },
  {
   "cell_type": "code",
   "execution_count": 1,
   "id": "reflected-sponsorship",
   "metadata": {},
   "outputs": [],
   "source": [
    "from pyspark.sql import SparkSession\n",
    "\n",
    "spark = SparkSession \\\n",
    "    .builder \\\n",
    "    .appName(\"Python Spark SQL basic example\") \\\n",
    "    .config(\"spark.some.config.option\", \"some-value\") \\\n",
    "    .getOrCreate()"
   ]
  },
  {
   "cell_type": "code",
   "execution_count": 11,
   "id": "following-iraqi",
   "metadata": {},
   "outputs": [],
   "source": [
    "claims_df = spark.read.format(\"csv\").csv(\"./houston_claims.csv\", header = True, inferSchema = True)"
   ]
  },
  {
   "cell_type": "code",
   "execution_count": 12,
   "id": "atlantic-conditions",
   "metadata": {},
   "outputs": [],
   "source": [
    "claims_df.createOrReplaceTempView(\"claims\")"
   ]
  },
  {
   "cell_type": "code",
   "execution_count": 14,
   "id": "dirty-uniform",
   "metadata": {},
   "outputs": [
    {
     "name": "stdout",
     "output_type": "stream",
     "text": [
      "root\n",
      " |-- _c0: integer (nullable = true)\n",
      " |-- reportedCity: string (nullable = true)\n",
      " |-- dateOfLoss: timestamp (nullable = true)\n",
      " |-- elevatedBuildingIndicator: boolean (nullable = true)\n",
      " |-- floodZone: string (nullable = true)\n",
      " |-- latitude: double (nullable = true)\n",
      " |-- longitude: double (nullable = true)\n",
      " |-- lowestFloodElevation: double (nullable = true)\n",
      " |-- amountPaidOnBuildingClaim: double (nullable = true)\n",
      " |-- amountPaidOnContentsClaim: double (nullable = true)\n",
      " |-- yearofLoss: timestamp (nullable = true)\n",
      " |-- reportedZipcode: integer (nullable = true)\n",
      " |-- id: string (nullable = true)\n",
      "\n"
     ]
    }
   ],
   "source": [
    "claims_df.printSchema()"
   ]
  },
  {
   "cell_type": "code",
   "execution_count": 16,
   "id": "animal-sunday",
   "metadata": {},
   "outputs": [
    {
     "name": "stdout",
     "output_type": "stream",
     "text": [
      "-RECORD 0-----------------------------------------\n",
      " _c0                       | 2468                 \n",
      " reportedCity              | HOUSTON              \n",
      " dateOfLoss                | 1985-09-28 20:00:00  \n",
      " elevatedBuildingIndicator | false                \n",
      " floodZone                 | C                    \n",
      " latitude                  | 29.8                 \n",
      " longitude                 | -95.5                \n",
      " lowestFloodElevation      | null                 \n",
      " amountPaidOnBuildingClaim | 0.0                  \n",
      " amountPaidOnContentsClaim | 0.0                  \n",
      " yearofLoss                | 1984-12-31 19:00:00  \n",
      " reportedZipcode           | 77024                \n",
      " id                        | 5e398d7074cbd479f... \n",
      "-RECORD 1-----------------------------------------\n",
      " _c0                       | 4029                 \n",
      " reportedCity              | HOUSTON              \n",
      " dateOfLoss                | 1985-09-29 20:00:00  \n",
      " elevatedBuildingIndicator | false                \n",
      " floodZone                 | C                    \n",
      " latitude                  | 29.8                 \n",
      " longitude                 | -95.6                \n",
      " lowestFloodElevation      | null                 \n",
      " amountPaidOnBuildingClaim | 2138.5               \n",
      " amountPaidOnContentsClaim | 0.0                  \n",
      " yearofLoss                | 1984-12-31 19:00:00  \n",
      " reportedZipcode           | 77079                \n",
      " id                        | 5e398d7374cbd479f... \n",
      "-RECORD 2-----------------------------------------\n",
      " _c0                       | 2469                 \n",
      " reportedCity              | HOUSTON              \n",
      " dateOfLoss                | 1985-11-16 19:00:00  \n",
      " elevatedBuildingIndicator | false                \n",
      " floodZone                 | C                    \n",
      " latitude                  | 29.8                 \n",
      " longitude                 | -95.5                \n",
      " lowestFloodElevation      | null                 \n",
      " amountPaidOnBuildingClaim | 0.0                  \n",
      " amountPaidOnContentsClaim | 0.0                  \n",
      " yearofLoss                | 1984-12-31 19:00:00  \n",
      " reportedZipcode           | 77024                \n",
      " id                        | 5e398d7074cbd479f... \n",
      "\n"
     ]
    }
   ],
   "source": [
    "spark.sql(\"SELECT * FROM claims ORDER BY yearofLoss LIMIT 3;\").show(vertical = True)"
   ]
  },
  {
   "cell_type": "markdown",
   "id": "fabulous-hostel",
   "metadata": {},
   "source": [
    "> Now we can also use a WHERE clause."
   ]
  },
  {
   "cell_type": "code",
   "execution_count": 19,
   "id": "distinct-spending",
   "metadata": {},
   "outputs": [
    {
     "name": "stdout",
     "output_type": "stream",
     "text": [
      "-RECORD 0-----------------------------------------\n",
      " _c0                       | 2                    \n",
      " reportedCity              | HOUSTON              \n",
      " dateOfLoss                | 2004-06-28 20:00:00  \n",
      " elevatedBuildingIndicator | false                \n",
      " floodZone                 | X                    \n",
      " latitude                  | 29.8                 \n",
      " longitude                 | -95.6                \n",
      " lowestFloodElevation      | null                 \n",
      " amountPaidOnBuildingClaim | 1420.89              \n",
      " amountPaidOnContentsClaim | 0.0                  \n",
      " yearofLoss                | 2003-12-31 19:00:00  \n",
      " reportedZipcode           | 77042                \n",
      " id                        | 5e398d6774cbd479f... \n",
      "-RECORD 1-----------------------------------------\n",
      " _c0                       | 3                    \n",
      " reportedCity              | HOUSTON              \n",
      " dateOfLoss                | 2009-04-27 20:00:00  \n",
      " elevatedBuildingIndicator | false                \n",
      " floodZone                 | X                    \n",
      " latitude                  | 29.8                 \n",
      " longitude                 | -95.6                \n",
      " lowestFloodElevation      | null                 \n",
      " amountPaidOnBuildingClaim | 2019.66              \n",
      " amountPaidOnContentsClaim | 0.0                  \n",
      " yearofLoss                | 2008-12-31 19:00:00  \n",
      " reportedZipcode           | 77042                \n",
      " id                        | 5e398d6774cbd479f... \n",
      "\n"
     ]
    }
   ],
   "source": [
    "spark.sql(\"SELECT * FROM claims WHERE latitude = 29.8 LIMIT 2;\").show(vertical = True)"
   ]
  },
  {
   "cell_type": "code",
   "execution_count": 20,
   "id": "authentic-sport",
   "metadata": {},
   "outputs": [
    {
     "name": "stdout",
     "output_type": "stream",
     "text": [
      "== Physical Plan ==\n",
      "CollectLimit 2\n",
      "+- *(1) Filter (isnotnull(latitude#155) AND (latitude#155 = 29.8))\n",
      "   +- FileScan csv [_c0#150,reportedCity#151,dateOfLoss#152,elevatedBuildingIndicator#153,floodZone#154,latitude#155,longitude#156,lowestFloodElevation#157,amountPaidOnBuildingClaim#158,amountPaidOnContentsClaim#159,yearofLoss#160,reportedZipcode#161,id#162] Batched: false, DataFilters: [isnotnull(latitude#155), (latitude#155 = 29.8)], Format: CSV, Location: InMemoryFileIndex[file:/Users/jeff/Library/Mobile Documents/com~apple~CloudDocs/Documents/jigsaw/..., PartitionFilters: [], PushedFilters: [IsNotNull(latitude), EqualTo(latitude,29.8)], ReadSchema: struct<_c0:int,reportedCity:string,dateOfLoss:timestamp,elevatedBuildingIndicator:boolean,floodZo...\n",
      "\n",
      "\n"
     ]
    }
   ],
   "source": [
    "spark.sql(\"SELECT * FROM claims WHERE latitude = 29.8 LIMIT 2;\").explain()"
   ]
  },
  {
   "cell_type": "markdown",
   "id": "trying-inspection",
   "metadata": {},
   "source": [
    "### Filter"
   ]
  },
  {
   "cell_type": "markdown",
   "id": "precious-syndrome",
   "metadata": {},
   "source": [
    "### Resources\n",
    "\n",
    "[Select and Filter Blog](https://hendra-herviawan.github.io/sparksql-select-filter.html)"
   ]
  },
  {
   "cell_type": "code",
   "execution_count": null,
   "id": "stable-dominican",
   "metadata": {},
   "outputs": [],
   "source": []
  }
 ],
 "metadata": {
  "kernelspec": {
   "display_name": "Python 3",
   "language": "python",
   "name": "python3"
  },
  "language_info": {
   "codemirror_mode": {
    "name": "ipython",
    "version": 3
   },
   "file_extension": ".py",
   "mimetype": "text/x-python",
   "name": "python",
   "nbconvert_exporter": "python",
   "pygments_lexer": "ipython3",
   "version": "3.8.6"
  }
 },
 "nbformat": 4,
 "nbformat_minor": 5
}
