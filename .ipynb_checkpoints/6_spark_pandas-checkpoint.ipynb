{
 "cells": [
  {
   "cell_type": "markdown",
   "id": "hawaiian-insulin",
   "metadata": {},
   "source": [
    "# Aggregate Methods"
   ]
  },
  {
   "cell_type": "markdown",
   "id": "coated-reply",
   "metadata": {},
   "source": [
    "### Aggregate Methods"
   ]
  },
  {
   "cell_type": "markdown",
   "id": "boxed-latino",
   "metadata": {},
   "source": [
    "Now we can get an overview of the data in each column with something like the following:"
   ]
  },
  {
   "cell_type": "code",
   "execution_count": 84,
   "id": "referenced-thesis",
   "metadata": {},
   "outputs": [
    {
     "name": "stdout",
     "output_type": "stream",
     "text": [
      "+-------+-------------------+-------------------+\n",
      "|summary|           latitude|          longitude|\n",
      "+-------+-------------------+-------------------+\n",
      "|  count|              19943|              19943|\n",
      "|   mean| 29.779967891591927| -95.44820225664996|\n",
      "| stddev|0.31282914829415176|0.48715072859743314|\n",
      "|    min|               29.5|             -149.8|\n",
      "|    max|               61.6|              -80.2|\n",
      "+-------+-------------------+-------------------+\n",
      "\n"
     ]
    }
   ],
   "source": [
    "updated_claims_df.describe(['latitude', 'longitude']).show()"
   ]
  },
  {
   "cell_type": "markdown",
   "id": "deadly-lingerie",
   "metadata": {},
   "source": [
    "Above, we use the `describe` method to calculate the `count`, `mean`, `stddev`, `min` and `max` of the `latitude` and `longitude` columns.  \n",
    "\n",
    "> If we did not pass through the list `['latitude', 'longitude']` in the `describe` function, spark would show us all of the columns."
   ]
  },
  {
   "cell_type": "code",
   "execution_count": 92,
   "id": "legal-livestock",
   "metadata": {},
   "outputs": [],
   "source": [
    "from pyspark.sql.functions import countDistinct, avg, stddev"
   ]
  },
  {
   "cell_type": "code",
   "execution_count": 96,
   "id": "encouraging-antique",
   "metadata": {},
   "outputs": [
    {
     "name": "stdout",
     "output_type": "stream",
     "text": [
      "+------------------+---------------------+\n",
      "|      avg latitude|stddev_samp(latitude)|\n",
      "+------------------+---------------------+\n",
      "|29.779967891591927|  0.31282914829415176|\n",
      "+------------------+---------------------+\n",
      "\n"
     ]
    }
   ],
   "source": [
    "updated_claims_df.select([avg('latitude').alias(\"avg latitude\"),\n",
    "                          stddev('latitude')]).show()"
   ]
  },
  {
   "cell_type": "markdown",
   "id": "biblical-needle",
   "metadata": {},
   "source": [
    "Above, we use the `describe` method to calculate the `count`, `mean`, `stddev`, `min` and `max` of the `latitude` and `longitude` columns.  \n",
    "\n",
    "> If we did not pass through the list `['latitude', 'longitude']` in the `describe` function, spark would show us all of the columns."
   ]
  },
  {
   "cell_type": "code",
   "execution_count": 92,
   "id": "disabled-nation",
   "metadata": {},
   "outputs": [],
   "source": [
    "from pyspark.sql.functions import countDistinct, avg, stddev"
   ]
  },
  {
   "cell_type": "code",
   "execution_count": 96,
   "id": "worthy-ensemble",
   "metadata": {},
   "outputs": [
    {
     "name": "stdout",
     "output_type": "stream",
     "text": [
      "+------------------+---------------------+\n",
      "|      avg latitude|stddev_samp(latitude)|\n",
      "+------------------+---------------------+\n",
      "|29.779967891591927|  0.31282914829415176|\n",
      "+------------------+---------------------+\n",
      "\n"
     ]
    }
   ],
   "source": [
    "updated_claims_df.select([avg('latitude').alias(\"avg latitude\"),\n",
    "                          stddev('latitude')]).show()"
   ]
  }
 ],
 "metadata": {
  "kernelspec": {
   "display_name": "Python 3",
   "language": "python",
   "name": "python3"
  },
  "language_info": {
   "codemirror_mode": {
    "name": "ipython",
    "version": 3
   },
   "file_extension": ".py",
   "mimetype": "text/x-python",
   "name": "python",
   "nbconvert_exporter": "python",
   "pygments_lexer": "ipython3",
   "version": "3.8.6"
  }
 },
 "nbformat": 4,
 "nbformat_minor": 5
}
